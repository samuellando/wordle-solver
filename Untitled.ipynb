{
 "cells": [
  {
   "cell_type": "code",
   "execution_count": 33,
   "id": "8f57cb86-168e-424d-a9cd-fad983a9dbb8",
   "metadata": {
    "tags": []
   },
   "outputs": [],
   "source": [
    "with open(\"words_alpha.txt\", \"r\") as f: \n",
    "    lines = f.readlines()"
   ]
  },
  {
   "cell_type": "code",
   "execution_count": 85,
   "id": "c401ce7a-9952-4f08-93ac-fea14cd9e8a6",
   "metadata": {
    "tags": []
   },
   "outputs": [],
   "source": [
    "five = []\n",
    "for line in lines:\n",
    "    line = line[:-1]\n",
    "    if len(line) == 5:\n",
    "        five.append(line)"
   ]
  },
  {
   "cell_type": "code",
   "execution_count": 141,
   "id": "1573bcb9-b0a3-434f-a6a9-6a963fac4e88",
   "metadata": {
    "tags": []
   },
   "outputs": [],
   "source": [
    "def matches(placements, contains, not_contains, bank, duplicates):\n",
    "    matches = []\n",
    "    for word in bank:\n",
    "        match = True\n",
    "        for c in placements:\n",
    "            if c[0] not in word:\n",
    "                match = False \n",
    "                break\n",
    "            elif word[c[1]] != c[0]:\n",
    "                match = False\n",
    "                break   \n",
    "        if match:\n",
    "            matches.append(word)\n",
    "                    \n",
    "    matches2 = []\n",
    "    for word in matches:\n",
    "        match = True\n",
    "        for c in contains:\n",
    "            if c[0] not in word:\n",
    "                match = False \n",
    "                break\n",
    "            for p in c[1]:\n",
    "                if word[p] == c[0]:\n",
    "                    match = False\n",
    "        if match:\n",
    "            matches2.append(word)\n",
    "            \n",
    "    matches3 = []\n",
    "    for word in matches2:\n",
    "        match = True\n",
    "        for c in not_contains:\n",
    "            if c in word:\n",
    "                match = False \n",
    "                break\n",
    "        if match:\n",
    "            matches3.append(word)\n",
    "    \n",
    "    matches4 = []\n",
    "    for word in matches3:\n",
    "        match = True\n",
    "        for c in word:\n",
    "            if not duplicates and word.count(c) > 1:\n",
    "                match = False \n",
    "                break\n",
    "        if match:\n",
    "            matches4.append(word)\n",
    "    \n",
    "    def vowel_count(w):\n",
    "        vs = [\"a\", \"e\", \"i\", \"o\", \"u\", \"y\"]\n",
    "        c = 0\n",
    "        for v in vs:\n",
    "            c += w.count(v)\n",
    "        return c\n",
    "    \n",
    "    matches4.sort(key=vowel_count, reverse=True)\n",
    "    \n",
    "    \n",
    "    return matches4"
   ]
  },
  {
   "cell_type": "code",
   "execution_count": 107,
   "id": "471eafd1-2c37-43f3-bf2e-e504940d08e4",
   "metadata": {
    "tags": []
   },
   "outputs": [
    {
     "data": {
      "text/plain": [
       "['furor']"
      ]
     },
     "execution_count": 107,
     "metadata": {},
     "output_type": "execute_result"
    }
   ],
   "source": [
    "matches([\n",
    "    [\"f\", 0],\n",
    "    [\"u\", 1],\n",
    "], [\n",
    "    [\"u\", [4,2,3]],\n",
    "    [\"o\", [1,2,4]]\n",
    "], \"adiebsychtng\", five, True)"
   ]
  },
  {
   "cell_type": "code",
   "execution_count": 117,
   "id": "36e04a78-73fa-40eb-8837-15d426d68fe4",
   "metadata": {
    "tags": []
   },
   "outputs": [
    {
     "data": {
      "text/plain": [
       "['fleer', 'skeer', 'sleer', 'sneer', 'speer']"
      ]
     },
     "execution_count": 117,
     "metadata": {},
     "output_type": "execute_result"
    }
   ],
   "source": [
    "matches([\n",
    "    [\"e\", 3],\n",
    "    [\"e\", 2]\n",
    "], [\n",
    "    [\"r\", [2, 1]],\n",
    "    [\"e\", [0]]\n",
    "], \"adiubogythwm\", five, True)"
   ]
  },
  {
   "cell_type": "code",
   "execution_count": 120,
   "id": "f27099ec-1ce6-459d-ba4b-22f4eb625756",
   "metadata": {
    "tags": []
   },
   "outputs": [
    {
     "data": {
      "text/plain": [
       "['reaal',\n",
       " 'reata',\n",
       " 'reave',\n",
       " 'reach',\n",
       " 'react',\n",
       " 'reaks',\n",
       " 'realm',\n",
       " 'reals',\n",
       " 'reams',\n",
       " 'reaps',\n",
       " 'reask',\n",
       " 'reast']"
      ]
     },
     "execution_count": 120,
     "metadata": {},
     "output_type": "execute_result"
    }
   ],
   "source": [
    "matches([\n",
    "    [\"a\", 2],\n",
    "    [\"e\", 1]\n",
    "], [\n",
    "    [\"a\", [0]],\n",
    "    [\"e\", [3]],\n",
    "    [\"r\", [3]]\n",
    "], \"diubny\", five, True)"
   ]
  },
  {
   "cell_type": "code",
   "execution_count": 123,
   "id": "db22b4a2-2e43-49ba-b288-3356434af097",
   "metadata": {
    "tags": []
   },
   "outputs": [
    {
     "data": {
      "text/plain": [
       "['elain', 'email']"
      ]
     },
     "execution_count": 123,
     "metadata": {},
     "output_type": "execute_result"
    }
   ],
   "source": [
    "matches([\n",
    "    [\"i\", 3]\n",
    "], [\n",
    "    [\"a\", [0, 1, 4]],\n",
    "    [\"e\", [3, 4, 1]],\n",
    "    [\"i\", [2]]\n",
    "], \"dubgcr\", five, True)"
   ]
  },
  {
   "cell_type": "code",
   "execution_count": 221,
   "id": "f1c8746a-4d5f-404b-b522-874a79f975db",
   "metadata": {
    "tags": []
   },
   "outputs": [],
   "source": [
    "def elim(word, pat):\n",
    "    matches = []\n",
    "    contains = []\n",
    "    notin = \"\"\n",
    "    for i, c in enumerate(pat):\n",
    "        if c == \"m\":\n",
    "            matches.append([word[i], i])\n",
    "        elif c == \"c\":\n",
    "            contains.append([word[i], [i]])\n",
    "        else:\n",
    "            notin += word[i]\n",
    "    \n",
    "    return matches, contains, notin"
   ]
  },
  {
   "cell_type": "code",
   "execution_count": 242,
   "id": "e11873bf-b49f-4aca-aaca-d10e97a53c83",
   "metadata": {
    "tags": []
   },
   "outputs": [],
   "source": [
    "contains = []\n",
    "match = []\n",
    "notin = \"\""
   ]
  },
  {
   "cell_type": "code",
   "execution_count": 245,
   "id": "9029f956-f88a-4fef-9da8-107c1297b712",
   "metadata": {
    "tags": []
   },
   "outputs": [
    {
     "data": {
      "text/plain": [
       "['flack']"
      ]
     },
     "execution_count": 245,
     "metadata": {},
     "output_type": "execute_result"
    }
   ],
   "source": [
    "m, c, n = elim(\"calfs\", \"cccc_\")\n",
    "contains = contains + c\n",
    "match = match + m\n",
    "notin += n\n",
    "\n",
    "matches(match, contains, notin, five, False)\n"
   ]
  },
  {
   "cell_type": "code",
   "execution_count": 213,
   "id": "79f7cca3-e318-466c-a67b-34c8e448ec9b",
   "metadata": {
    "tags": []
   },
   "outputs": [],
   "source": [
    "match = []"
   ]
  },
  {
   "cell_type": "code",
   "execution_count": 214,
   "id": "658de29d-15fa-4c88-98b1-9b9f1b3c9ebb",
   "metadata": {
    "tags": []
   },
   "outputs": [],
   "source": [
    "contains = []"
   ]
  },
  {
   "cell_type": "code",
   "execution_count": 215,
   "id": "76a5638b-ef2c-4394-bd0b-d96deeafe26e",
   "metadata": {
    "tags": []
   },
   "outputs": [],
   "source": [
    "notin = \"\""
   ]
  },
  {
   "cell_type": "code",
   "execution_count": 236,
   "id": "793137e5-e6b7-4a54-ba10-68e9c60dc3f2",
   "metadata": {
    "tags": []
   },
   "outputs": [
    {
     "data": {
      "text/plain": [
       "[]"
      ]
     },
     "execution_count": 236,
     "metadata": {},
     "output_type": "execute_result"
    }
   ],
   "source": [
    "match"
   ]
  },
  {
   "cell_type": "code",
   "execution_count": 235,
   "id": "453e69f7-9e8a-449b-ac33-ef6597d385c8",
   "metadata": {
    "tags": []
   },
   "outputs": [
    {
     "data": {
      "text/plain": [
       "[['a', [0]], ['a', [3]], ['a', [3]]]"
      ]
     },
     "execution_count": 235,
     "metadata": {},
     "output_type": "execute_result"
    }
   ],
   "source": [
    "contains"
   ]
  },
  {
   "cell_type": "code",
   "execution_count": 237,
   "id": "66788e7d-7700-4d6b-bd89-81ea22edd9cd",
   "metadata": {
    "tags": []
   },
   "outputs": [
    {
     "data": {
      "text/plain": [
       "'dieuboyarboyarboyarboyrboyr'"
      ]
     },
     "execution_count": 237,
     "metadata": {},
     "output_type": "execute_result"
    }
   ],
   "source": [
    "notin"
   ]
  },
  {
   "cell_type": "code",
   "execution_count": null,
   "id": "9f96ee2a-3d09-415f-8798-2b383fa915b3",
   "metadata": {},
   "outputs": [],
   "source": []
  }
 ],
 "metadata": {
  "kernelspec": {
   "display_name": "Python 3 (ipykernel)",
   "language": "python",
   "name": "python3"
  },
  "language_info": {
   "codemirror_mode": {
    "name": "ipython",
    "version": 3
   },
   "file_extension": ".py",
   "mimetype": "text/x-python",
   "name": "python",
   "nbconvert_exporter": "python",
   "pygments_lexer": "ipython3",
   "version": "3.10.9"
  }
 },
 "nbformat": 4,
 "nbformat_minor": 5
}
